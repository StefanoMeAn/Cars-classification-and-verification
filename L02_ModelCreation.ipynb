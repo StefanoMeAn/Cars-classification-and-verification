{
 "cells": [
  {
   "cell_type": "markdown",
   "metadata": {},
   "source": [
    "# L02 Model creation and fine tunning"
   ]
  },
  {
   "cell_type": "markdown",
   "metadata": {},
   "source": [
    "**Siamese neural networks**\n",
    "\n",
    "Tell how similar two images are by comparing them in a model.Feed neural network with two images and then create an encoding of each images. The final result will be two vectors that will be compared.\n"
   ]
  },
  {
   "cell_type": "markdown",
   "metadata": {},
   "source": [
    "## 1. Import libraries"
   ]
  },
  {
   "cell_type": "code",
   "execution_count": 2,
   "metadata": {},
   "outputs": [],
   "source": [
    "import torch\n",
    "import torch.nn as nn\n"
   ]
  },
  {
   "cell_type": "markdown",
   "metadata": {},
   "source": [
    "## 2. Create models"
   ]
  },
  {
   "cell_type": "markdown",
   "metadata": {},
   "source": [
    "### 2.1 Siamese Network"
   ]
  },
  {
   "cell_type": "code",
   "execution_count": 9,
   "metadata": {},
   "outputs": [],
   "source": [
    "class SiameseNeuralNetwork(nn.Module):\n",
    "    \"\"\"\n",
    "    Siamese Neural Network for performing image verification. Consists on 3 convolutional layers\n",
    "    and 3 fully connected layers. Input and output shapes can be tune up.\n",
    "\n",
    "    Parameters:\n",
    "    number_channels (int): Number of channels of the input image.\n",
    "    length_a (int): Number of channels for first convolutional layer.\n",
    "    length_b (int): Number of channels for second convolutional layer.\n",
    "    length_c (int): Number of channels for third convolutional layer.\n",
    "    flatten_a (int): Number of neurons for the first fully connected layer.\n",
    "    flatten_b (int): Number of neurons for the second fully connected layer.\n",
    "\n",
    "    Method:\n",
    "    forward_all(x): Computes feature vector for one sample.\n",
    "    forward(input_a, input_b): Computes feature vector for two samples.\n",
    "    \"\"\"\n",
    "\n",
    "    def __init__(self,number_channels, length_a, length_b, length_c, flatten_a, flatten_b):\n",
    "        super(SiameseNeuralNetwork, self).__init__(number_channels)\n",
    "        self.number_channels = number_channels\n",
    "\n",
    "        # Create three convolutional layers\n",
    "        self.cnn1 = nn.Sequential(\n",
    "            nn.Conv2d(number_channels, length_a, kernel_size = 11, stride = 4),\n",
    "            nn.ReLU(implace=True),\n",
    "            nn.MaxPool2d(3, stride=2),\n",
    "    \n",
    "            nn.Conv2d(length_a, length_b, kernel_size = 5, stride = 1),\n",
    "            nn.ReLU(implace=True),\n",
    "            nn.MaxPool2d(2, stride=2),\n",
    "        \n",
    "            nn.Conv2d(length_b, length_c,  kernel_size = 3, stride = 1),\n",
    "            nn.ReLU(implace=True),\n",
    "        )\n",
    "\n",
    "        # Create two fully connected layers\n",
    "        self.fc1 = nn.Sequential(\n",
    "            nn.Linear(length_c, flatten_a),\n",
    "            nn.ReLU(inplace=True),\n",
    "            nn.Linear(flatten_a, flatten_b),\n",
    "            nn.ReLU(inplace=True),\n",
    "            nn.Linear(flatten_b, 2)\n",
    "        )\n",
    "    \n",
    "    def forward_all(self, x):\n",
    "        \"\"\"\n",
    "        Pass image tensor through convolutional and fully connected layer.\n",
    "\n",
    "        Parameters:\n",
    "        x (tensor) -> image tensor from dataset.\n",
    "\n",
    "        Output:\n",
    "        output (array) -> encoded vector.\n",
    "        \"\"\"\n",
    "        output = self.cnn1(x)\n",
    "        # Take batch dimension and multiply the rest.\n",
    "        output = output.view(output.size()[0], -1)\n",
    "        output = self.fc1(output)\n",
    "        return output\n",
    "\n",
    "    def forward(self, input_a, input_b):\n",
    "        \"\"\"\n",
    "        Main forward function that passes two images in the Siamese Network\n",
    "        for computing encoding vectors.\n",
    "\n",
    "        Parameters:\n",
    "        input_a (tensor) -> image tensor from dataset.\n",
    "        input_b (tensor) -> image tensor from dataset.\n",
    "\n",
    "        Output:\n",
    "        output1 (array) -> encoded vector.\n",
    "        output2 (array) -> encoded vector.\n",
    "        \"\"\"\n",
    "        output1 = self.forward_all(input_a)\n",
    "        output2 = self.forward_all(input_b)\n",
    "\n",
    "        return output1, output2"
   ]
  },
  {
   "cell_type": "code",
   "execution_count": null,
   "metadata": {},
   "outputs": [],
   "source": []
  }
 ],
 "metadata": {
  "kernelspec": {
   "display_name": "gpu_py",
   "language": "python",
   "name": "python3"
  },
  "language_info": {
   "codemirror_mode": {
    "name": "ipython",
    "version": 3
   },
   "file_extension": ".py",
   "mimetype": "text/x-python",
   "name": "python",
   "nbconvert_exporter": "python",
   "pygments_lexer": "ipython3",
   "version": "3.10.13"
  }
 },
 "nbformat": 4,
 "nbformat_minor": 2
}
