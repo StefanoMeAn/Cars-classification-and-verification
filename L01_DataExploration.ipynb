{
 "cells": [
  {
   "cell_type": "markdown",
   "metadata": {},
   "source": [
    "# L01 - Data exploration and analysis"
   ]
  },
  {
   "cell_type": "markdown",
   "metadata": {},
   "source": [
    "## 1. Import libraries"
   ]
  },
  {
   "cell_type": "code",
   "execution_count": 2,
   "metadata": {},
   "outputs": [],
   "source": [
    "import numpy as np\n",
    "import os\n",
    "import gdown\n",
    "import subprocess\n",
    "import pandas as pd\n",
    "import matplotlib.pyplot as pd"
   ]
  },
  {
   "cell_type": "markdown",
   "metadata": {},
   "source": [
    "# 2. Download data"
   ]
  },
  {
   "cell_type": "code",
   "execution_count": 2,
   "metadata": {},
   "outputs": [],
   "source": [
    "def downloader(From = \"https://drive.google.com/open?id=18EunmjOJsbE5Lh9zA0cZ4wKV6Um46dkg\",\n",
    "               To = \"/home/kia/Desktop/PoD/NNDL/data/\"):\n",
    "\n",
    "    \"\"\"\n",
    "    Downloads a folder from Google Drive to a specified local directory.\n",
    "\n",
    "    Parameters\n",
    "    ----------\n",
    "    From : str, optional\n",
    "        URL of the Google Drive folder to download. Default is a sample folder URL.\n",
    "    To : str, optional\n",
    "        Path to the local directory where the folder will be downloaded. Default is \n",
    "        '/home/kia/Desktop/PoD/NNDL/data/'.\n",
    "\n",
    "    Returns\n",
    "    -------\n",
    "    None\n",
    "        Downloads the folder to the specified location.\n",
    "    \"\"\"\n",
    "\n",
    "\n",
    "    # Folder link and destination directory\n",
    "    folder_url = From\n",
    "    destination = To\n",
    "\n",
    "    # Create destination directory if it doesn't exist\n",
    "    os.makedirs(destination, exist_ok=True)\n",
    "\n",
    "    # Download folder recursively\n",
    "    gdown.download_folder(folder_url, quiet=False, output=destination)"
   ]
  },
  {
   "cell_type": "code",
   "execution_count": 3,
   "metadata": {},
   "outputs": [],
   "source": [
    "def combine_zips(input_zip, output_zip, directory=\"/home/kia/Desktop/PoD/NNDL/data/\"):\n",
    "    \n",
    "    \"\"\"\n",
    "    Combines split zip files using the `zip -F` command.\n",
    "\n",
    "    Parameters\n",
    "    ----------\n",
    "    input_zip : str\n",
    "        Path to the main split zip file (e.g., `data.zip`).\n",
    "    output_zip : str\n",
    "        Path for the combined output zip file.\n",
    "    directory : str, optional\n",
    "        Path to the directory containing the split zip parts. If None, assumes the current directory.\n",
    "\n",
    "    Returns\n",
    "    -------\n",
    "    None\n",
    "    \"\"\"\n",
    "\n",
    "    \n",
    "    command = [\"zip\", \"-F\", input_zip, \"--out\", output_zip]\n",
    "    \n",
    "    if directory:\n",
    "        command = [\"cd\", directory, \"&&\"] + command  \n",
    "    \n",
    "    try:\n",
    "        subprocess.run(\" \".join(command), shell=True, check=True)\n",
    "        print(f\"Combined ZIP file saved as {output_zip}\")\n",
    "    except subprocess.CalledProcessError as e:\n",
    "        print(f\"Error combining ZIP files: {e}\")\n"
   ]
  },
  {
   "cell_type": "code",
   "execution_count": 1,
   "metadata": {},
   "outputs": [],
   "source": [
    "def unzip_file(zip_file, password, destination_directory):\n",
    "\n",
    "    \"\"\"\n",
    "    Extracts a ZIP file using a password in quiet mode.\n",
    "\n",
    "    Parameters\n",
    "    ----------\n",
    "    zip_file : str\n",
    "        Path to the ZIP file.\n",
    "    password : str\n",
    "        Password for the ZIP file.\n",
    "    destination_directory : str\n",
    "        Directory to extract the files to.\n",
    "\n",
    "    Raises\n",
    "    ------\n",
    "    subprocess.CalledProcessError\n",
    "        If the `unzip` command fails.\n",
    "    \"\"\"\n",
    "    \n",
    "    try:\n",
    "        command = [\n",
    "            \"unzip\", \"-q\", \"-P\", password, zip_file, \"-d\", destination_directory\n",
    "        ]\n",
    "        \n",
    "        subprocess.run(command, check=True)\n",
    "        print(f\"Successfully unzipped {zip_file} to {destination_directory}\")\n",
    "    \n",
    "    except subprocess.CalledProcessError as e:\n",
    "        print(f\"Error during unzip: {e}\")\n",
    "\n"
   ]
  },
  {
   "cell_type": "markdown",
   "metadata": {},
   "source": [
    "## 2.1 Download, Combine and Unzip dataset"
   ]
  },
  {
   "cell_type": "code",
   "execution_count": null,
   "metadata": {},
   "outputs": [],
   "source": [
    "# Define working directory.\n",
    "ROOT_DIR = os.getcwd()\n",
    "DATA_FOLDER = \"data\"\n",
    "\n",
    "# Create data folder if not exists.\n",
    "if DATA_FOLDER not in os.listdir():\n",
    "    os.mkdir(DATA_FOLDER)\n",
    "\n",
    "# Download dataset.\n",
    "downloader(To = os.path.join(ROOT_DIR, DATA_FOLDER))\n",
    "# Combine all zips into single zip file.\n",
    "combine_zips(\"data.zip\", \"combined.zip\", os.path.join(ROOT_DIR, DATA_FOLDER))"
   ]
  },
  {
   "cell_type": "code",
   "execution_count": null,
   "metadata": {},
   "outputs": [],
   "source": [
    "# shuffle, split\n",
    "\n",
    "# def prepare_labels():\n",
    "\n",
    "pd.read_csv( \n"
   ]
  },
  {
   "cell_type": "code",
   "execution_count": null,
   "metadata": {},
   "outputs": [],
   "source": [
    "my_dir = \"/home/kia/Desktop/PoD/NNDL/Data/\"\n",
    "\n",
    "downloader(To = my_dir)\n",
    "\n",
    "combine_zips(\"data.zip\", \"combined.zip\", my_dir)\n",
    "\n",
    "unzip_file(my_dir+\"combined.zip\", \"d89551fd190e38\", my_dir+\"combined\")"
   ]
  }
 ],
 "metadata": {
  "kernelspec": {
   "display_name": "myenv",
   "language": "python",
   "name": "python3"
  },
  "language_info": {
   "codemirror_mode": {
    "name": "ipython",
    "version": 3
   },
   "file_extension": ".py",
   "mimetype": "text/x-python",
   "name": "python",
   "nbconvert_exporter": "python",
   "pygments_lexer": "ipython3",
   "version": "3.12.3"
  }
 },
 "nbformat": 4,
 "nbformat_minor": 2
}
